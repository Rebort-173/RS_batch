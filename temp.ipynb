{
 "metadata": {
  "language_info": {
   "codemirror_mode": {
    "name": "ipython",
    "version": 3
   },
   "file_extension": ".py",
   "mimetype": "text/x-python",
   "name": "python",
   "nbconvert_exporter": "python",
   "pygments_lexer": "ipython3",
   "version": "3.7.9"
  },
  "orig_nbformat": 2,
  "kernelspec": {
   "name": "python379jvsc74a57bd01602e29face5f47b800798cf960885c37cdcff36606a8096956e11d55078031d",
   "display_name": "Python 3.7.9 64-bit ('Py37': conda)"
  }
 },
 "nbformat": 4,
 "nbformat_minor": 2,
 "cells": [
  {
   "cell_type": "code",
   "execution_count": 2,
   "metadata": {},
   "outputs": [
    {
     "output_type": "stream",
     "name": "stdout",
     "text": [
      "[[6 2 3 4 5 3 8 6 3 6]\n [6 6 1 9 2 0 7 0 1 3]\n [3 9 7 1 7 5 2 8 4 4]\n [8 4 9 2 6 5 1 8 9 8]\n [7 6 0 4 9 9 8 1 9 7]\n [9 0 9 1 0 0 9 0 0 6]\n [6 8 7 0 6 1 9 5 5 1]\n [7 0 6 2 7 8 9 8 0 6]\n [7 4 6 2 6 0 6 9 1 5]\n [6 7 7 5 4 1 8 2 6 6]]\n"
     ]
    }
   ],
   "source": [
    "import numpy as np\n",
    "\n",
    "a = np.random.randint(0,10,size=[10,10])\n",
    "print(a)"
   ]
  },
  {
   "cell_type": "code",
   "execution_count": 6,
   "metadata": {},
   "outputs": [
    {
     "output_type": "stream",
     "name": "stdout",
     "text": [
      "[[6 2 3]\n [6 6 1]\n [3 9 7]]\n"
     ]
    }
   ],
   "source": [
    "i=0\n",
    "print(a[i:i+3, i:i+3])"
   ]
  },
  {
   "cell_type": "code",
   "execution_count": 7,
   "metadata": {},
   "outputs": [
    {
     "output_type": "stream",
     "name": "stdout",
     "text": [
      "4.777777777777778\n"
     ]
    }
   ],
   "source": [
    "print(np.mean(a[i:i+3, i:i+3]))"
   ]
  },
  {
   "cell_type": "code",
   "execution_count": 9,
   "metadata": {},
   "outputs": [
    {
     "output_type": "stream",
     "name": "stdout",
     "text": [
      "[[1 1 1 1 1]\n [1 1 1 1 1]\n [1 1 1 1 1]\n [1 1 1 1 1]\n [1 1 1 1 1]]\n"
     ]
    }
   ],
   "source": [
    "b= np.ones([5,5], dtype = int)\n",
    "print(b)"
   ]
  },
  {
   "cell_type": "code",
   "execution_count": 14,
   "metadata": {},
   "outputs": [
    {
     "output_type": "stream",
     "name": "stdout",
     "text": [
      "[[[1 1 1 1 1]\n  [1 1 1 1 1]\n  [1 1 1 1 1]\n  [1 1 1 1 1]\n  [1 1 1 1 1]]\n\n [[1 1 1 1 1]\n  [1 1 1 1 1]\n  [1 1 1 1 1]\n  [1 1 1 1 1]\n  [1 1 1 1 1]]\n\n [[1 1 1 1 1]\n  [1 1 1 1 1]\n  [1 1 1 1 1]\n  [1 1 1 1 1]\n  [1 1 1 1 1]]\n\n [[1 1 1 1 1]\n  [1 1 1 1 1]\n  [1 1 1 1 1]\n  [1 1 1 1 1]\n  [1 1 1 1 1]]\n\n [[1 1 1 1 1]\n  [1 1 1 1 1]\n  [1 1 1 1 1]\n  [1 1 1 1 1]\n  [1 1 1 1 1]]]\n"
     ]
    }
   ],
   "source": [
    "i=0\n",
    "# x = np.mean(b[i:i+3, i:i+3]))\n",
    "# print(x)\n",
    "print(b[b+1])"
   ]
  },
  {
   "cell_type": "code",
   "execution_count": null,
   "metadata": {},
   "outputs": [],
   "source": []
  }
 ]
}